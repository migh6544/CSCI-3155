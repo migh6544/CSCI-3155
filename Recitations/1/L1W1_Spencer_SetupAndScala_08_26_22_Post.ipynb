{
 "cells": [
  {
   "cell_type": "markdown",
   "metadata": {},
   "source": [
    "# Lab 1 Week 1: Setup and Scala\n",
    "* Please forgive the typos."
   ]
  },
  {
   "cell_type": "markdown",
   "metadata": {},
   "source": [
    "# Pre-class Announcements\n",
    "* Please download this document from Canvas:\n",
    "    * navigate to the course `Canvas` page\n",
    "    * select `Modules` from the left hand navigation (it's also our home page)\n",
    "    * See the module: \"`Recitations`\" (at the bottom)\n",
    "    * Download document named: \"`L1W1_Spencer_SetupAndScala_08_26_22_Pre.ipynb`\"\n",
    "        * I'll publish a \"`*_Post`\" version after recitation today with any updates from recitation\n",
    "* Please load the document to jupyter hub on `coding.csel.io` for 3155\n",
    "    * `coding.csel.io`\n",
    "    * `sign in` using university credentials\n",
    "    * select \"`3155 Programming Languages`\"\n",
    "    * a`wait` setup\n",
    "    * Near top-left of screen, there is a '+', '`<a folder icon>`', and an '`<upload icon>`'. \n",
    "        * Use the `upload` icon to upload the document you just downloaded"
   ]
  },
  {
   "cell_type": "markdown",
   "metadata": {},
   "source": [
    "# Announcements\n",
    "* Lab 1 Checkpoint due today 6pm (with an automatic 24-hour extension for stuff happens)\n",
    "    * We'll cover it now\n",
    "    * git push your \"faithful attempt\". You need to push at least once before the checkpoint deadline but you can keep pushing new updates after the checkpoint.\n",
    "    * Do the short Lab 1 Checkpoint Exercise on Canvas to prod some early thinking for the lab: https://canvas.colorado.edu/courses/85615/quizzes/279357?module_item_id=3994671\n",
    "* Use Piazza for all course communication.\n",
    "    * Energetically engage in discussions with your classmates to help each other on the learning activities.\n",
    "    * For course administrative things (e.g., grade issues, GitHub access issues), use private to \"Instructors\" instead of email.\n",
    "* Extra, not required: CSPB 3155 Fall 2018 videos posted\n",
    "* Lab 1 due next week Friday 6pm.\n",
    "    * In-Class Lab 1 Exercise on the following Tuesday"
   ]
  },
  {
   "cell_type": "markdown",
   "metadata": {},
   "source": [
    "# Agenda:\n",
    "* Meet Spencer\n",
    "* Forming Teams\n",
    "* Getting Environment Setup\n",
    "* Shadowing (Lab 1 problem 2.A.)\n",
    "* Scala (Lab 1 problem 4.A. and more if we have time)"
   ]
  },
  {
   "cell_type": "markdown",
   "metadata": {},
   "source": [
    "# Meet Spencer\n",
    "* My name is Spencer Wilson\n",
    "* I go by Spencer\n",
    "* My prefered pronouns are he/him\n",
    "* I completed my BS-CSEN here at CU in 2017 (sko ____)\n",
    "* I took 3155 in Fall 2015 with Prof Chang\n",
    "* I was the original CA for the course for the next three semesters\n",
    "* I was hired to lecture the course with that experience and went on to lecture: Su17, Su18, Sp19, Sp22 (PostBac sub), Su22\n",
    "* Do note that this is my first time as a TA for the course. \n",
    "    * It is a WAY different role.\n",
    "    * Please give me grace as I learn the role.\n",
    "* From 2017 - 2022 I was a software engineer at Northrop Grumman\n",
    "    * Worked in testing, development, and program management\n",
    "    * HUGE company\n",
    "    * defence contracting\n",
    "    * ask me sometime in OH\n",
    "* I look forward to working with you all throughout the term\n"
   ]
  },
  {
   "cell_type": "markdown",
   "metadata": {},
   "source": [
    "# Forming teams\n",
    "* Please stand if you do not already have a repo on github classroom\n",
    "* By name I'll be pairing the sitting with standing first\n",
    "* announced live\n",
    "\n",
    "## Meeting your partner\n",
    "* some things to consider:\n",
    "    * Your prefered name\n",
    "    * Your prefered pronouns (please be respectful)\n",
    "    * Decide whose github classroom team will be used for lab 1.\n",
    "    * A hobby of yours\n",
    "        * even if you haven't done it in a while\n",
    "        * common interests?\n",
    "    * Prefered contact method - e.g cell, email, slack, snail mail\n",
    "    * Lookup your github IDs and existing team names\n",
    "* Let's stand up and meet and greet in the hallway with our parteners\n",
    "* Bring your stuff with you\n",
    "* 4 minutes ish\n",
    "* return to the classroom together when you are ready\n",
    "    * form a line here at the front\n",
    "    * Abhishek and I will handle your teams\n",
    "* Note that your abandond projects will be deleted by Sunday 8/28 for ease of grading your checkpoint early next week.\n",
    "  "
   ]
  },
  {
   "cell_type": "markdown",
   "metadata": {},
   "source": [
    "## Email me confirmation\n",
    "* This is the one time you should email me this term (I don't check email typically and Piazza is great for getting a hold of me)\n",
    "* One member of each team:\n",
    "    * from your colorado.edu address\n",
    "    * To: spencer.wilson@colorado.edu\n",
    "    * CC: your teammate\n",
    "    * subject: 3155 Lab 1 team\n",
    "    * body\n",
    "        * People: `<your name and github id, your parteners name and their github id>`\n",
    "        * Keep team: `<the classroom team you will use for lab 1>`\n",
    "        * Delete team: `<any classroom teams that you want to abondon for lab 1>`\n",
    "        * NOTE: if you already only have one team"
   ]
  },
  {
   "cell_type": "markdown",
   "metadata": {},
   "source": [
    "## Get to know your class\n",
    "* Remember your discussion in the hallway?\n",
    "* Raise your hand if your hobby is done outdoors\n",
    "    * What are a few of those hobbies?\n",
    "* Raise your hand if your hobby is not done outdoors\n",
    "    * What are a few of those hobbies?\n",
    "\n",
    "## Team expectations\n",
    "* This is your team for lab 1\n",
    "* You will have a different lab partener for each lab.\n",
    "* What to do together\n",
    "    * You should make some time to work together on the lab. \n",
    "    * Consider pair programming. \n",
    "    * Consider scheduling some time for early next week to work on this, then again later in the week. \n",
    "    * Consider sitting near eachother at lecture.\n",
    "    * Do what works best for you. These are just ideas\n",
    "* Issues/Concerns:\n",
    "    * In cases of incompatible schedules between lab partners, new lab partner assignments can be considered on a case by case basis. You will need to coordinate that with your section guide.\n",
    "    * If there are any safety concerns between partners, please bring that to the attention of your section guide ASAP so that appropriate actions can be taken and new lab partners can be assigned."
   ]
  },
  {
   "cell_type": "markdown",
   "metadata": {},
   "source": [
    "# Q&A?\n",
    "* ???SPWI write the questions for the archive..."
   ]
  },
  {
   "cell_type": "markdown",
   "metadata": {},
   "source": [
    "# Environment setup\n",
    "* You should setup your own environment\n",
    "* Ideally you've already done this\n",
    "* For today, you should be able to do this on coding.csel.io\n",
    "* live demo (wishe me luck)\n",
    "    * github classroom: https://github.com/csci3155-f22/\n",
    "        * find your team\n",
    "        * get your https link\n",
    "    * coding.csel.io: https://coding.csel.io\n",
    "        * close all the tabs (probably a better way exists)\n",
    "        * open VSCode IDE\n",
    "        * click apps squares icon (near bottom)\n",
    "        * locate \"Metals\"\n",
    "        * Install\n",
    "        * You might have to restart the VSCode session\n",
    "        * Navigate to Explorer (its a stacked pages icon near the top)\n",
    "        * If you already have this setup, then ignore the next step!\n",
    "        * If you have a worksapce open, then close it: hamburger > file > close workspace\n",
    "        * get your github repo in your clipboard!\n",
    "        * \"Clone GitHub repository...\"\n",
    "* execute the provided tests as a sanity check\n",
    "    * in terminal\n",
    "    * `sbt test`\n",
    "* Still having issues?\n",
    "    1. Check piazza to see if other people have that issue\n",
    "    1. Iff, not, then post your issue\n",
    "    1. Try to attend office hours to get individuallized assistance and based on what you learn, update your piazza post/add to the existing ones.\n",
    "* Have yours working after debuggin it yourself?\n",
    "    * See if you can add to an existing piazza post or start a new one. Your peers will apprecaite it"
   ]
  },
  {
   "cell_type": "markdown",
   "metadata": {},
   "source": [
    "# Shadowing (Lab 1 problem 2.A.)\n",
    "* Shadowing is when a variable name is used in multiple places but referencing different names"
   ]
  },
  {
   "cell_type": "code",
   "execution_count": null,
   "metadata": {},
   "outputs": [],
   "source": [
    "1"
   ]
  },
  {
   "cell_type": "markdown",
   "metadata": {},
   "source": [
    "* the above has no shadowed variables\n",
    "* it doesn't even have variables"
   ]
  },
  {
   "cell_type": "code",
   "execution_count": null,
   "metadata": {},
   "outputs": [],
   "source": [
    "val x = 1"
   ]
  },
  {
   "cell_type": "markdown",
   "metadata": {},
   "source": [
    "* the above has no shadowed variables\n",
    "* it does have a variable though - `x`"
   ]
  },
  {
   "cell_type": "code",
   "execution_count": null,
   "metadata": {},
   "outputs": [],
   "source": [
    "val x = 1\n",
    "val y = 2\n",
    "x + y"
   ]
  },
  {
   "cell_type": "markdown",
   "metadata": {},
   "source": [
    "* the above has no shadowed variables\n",
    "* it does has multiple variables, but they have diffent names - `x`, vs `y`\n",
    "* If you don't have line numbers on already:\n",
    "    * View\n",
    "    * Show Line Numbers\n",
    "        * or Toggle Line Numbers"
   ]
  },
  {
   "cell_type": "code",
   "execution_count": null,
   "metadata": {},
   "outputs": [],
   "source": [
    "val x = 1\n",
    "val y = {\n",
    "    val x = 20\n",
    "    x\n",
    "}\n",
    "x + y"
   ]
  },
  {
   "cell_type": "markdown",
   "metadata": {},
   "source": [
    "* The above has a shadowed variable\n",
    "* It also has a language feauture you may have never seen before\n",
    "* In Scala `{}` creates a new scope\n",
    "* The x on line 3 shadows the x on line 1\n",
    "* OBSERVE the resulting value of the program is `21` and not `40`\n",
    "    * The `x` on line 3 comes into existance on line 3\n",
    "    * it is usable on line 4\n",
    "    * on line 5 the **scope** of this `x` ends and it disapears\n",
    "* I'm sure you have questions here. Hold that thought, we'll return to it."
   ]
  },
  {
   "cell_type": "code",
   "execution_count": null,
   "metadata": {},
   "outputs": [],
   "source": [
    "val x = 1\n",
    "def f() = {\n",
    "    val x = 20\n",
    "    x\n",
    "}\n",
    "x + f()"
   ]
  },
  {
   "cell_type": "markdown",
   "metadata": {},
   "source": [
    "* Here is a more familiar representation of the idea\n",
    "* The above has a shadowed variable\n",
    "* functions have their own scope\n",
    "* The x on line 3 shadows the x on line 1\n",
    "* OBSERVE the resulting value of the program is `21` and not `40`\n",
    "    * The `x` on line 3 comes into existance on line 3\n",
    "    * it is usable on line 4\n",
    "    * on line 5 the **scope** of this `x` ends and it disapears\n",
    "* I presume you are used to scopes in the context of a function. If it's new~ish to you. Don't worry. We'll cover it in - i want to say - lab 3"
   ]
  },
  {
   "cell_type": "code",
   "execution_count": null,
   "metadata": {},
   "outputs": [],
   "source": [
    "val x = 1\n",
    "def f(x: Int) = {\n",
    "    x\n",
    "}\n",
    "x + f(20)"
   ]
  },
  {
   "cell_type": "markdown",
   "metadata": {},
   "source": [
    "* Here is yet another familiar representation of the idea\n",
    "* The above has a shadowed variable\n",
    "* The x on line 2 shadows the x on line 1\n",
    "* This is something we are hopefully very familiar \n",
    "* OBSERVE the resulting value of the program is `21` and not `40`\n",
    "    * A bit more specialized in practice\n",
    "    * The `x` at line 2 comes into existance at any call site (e.g. line 5)\n",
    "    * This `x` only exists inside the function at call time (i.e. it only exists until line 4 each time it is defined)\n",
    "    * Don't worry about that specification for now, but ask on Piazza if you want to know more.\n",
    "* Again, I presume you are used to parameter scopes. If it's new~ish to you. Don't worry. We'll cover it in - i want to say - lab 3"
   ]
  },
  {
   "cell_type": "code",
   "execution_count": null,
   "metadata": {},
   "outputs": [],
   "source": [
    "val x = 1\n",
    "val y = {\n",
    "    val x = 20\n",
    "    x\n",
    "}\n",
    "x + y"
   ]
  },
  {
   "cell_type": "markdown",
   "metadata": {},
   "source": [
    "* Show of hands, is this the first time that you've seen the above kind of code?"
   ]
  },
  {
   "cell_type": "markdown",
   "metadata": {},
   "source": [
    "## Q&A?\n",
    "* ???"
   ]
  },
  {
   "cell_type": "markdown",
   "metadata": {},
   "source": [
    "## Pair on 2.A.\n",
    "* You have your lab open in VSCode\n",
    "* If you haven't already, make a new file called `lab1-writeup.md` in the root directory\n",
    "    * SPWI: demo how to do it\n",
    "* Consider copying the below template in\n",
    "~~~\n",
    "# CSCI 3155 Lab 1\n",
    "* Name: YOUR_NAME_HERE\n",
    "* Partner Name: PARTERN(S)_NAME(S)_HERE\n",
    "\n",
    "# 2.a.\n",
    "* pi at line 4 is bound at line: ___\n",
    "* pi at line 7 is bound at line: ___\n",
    "\n",
    "\n",
    "# Sources\n",
    "* stack overflow pages used at a minimum\n",
    "* ?youtube? \n",
    "* You could also list helpful course resouces here as it will make your exit survey easier to complete\n",
    "~~~\n",
    "\n",
    "* take some time to work on this with your teammate\n",
    "* I'll demonstrate the solution afterwards. I'll call on a few students to help me.\n",
    "    * SPWI: Raise your hand now if you do not want me to call on you."
   ]
  },
  {
   "cell_type": "markdown",
   "metadata": {},
   "source": [
    "### NOTE on lab1-writeup.md\n",
    "* We only need to do Part 2.A. in this file for the checkpoint\n",
    "* You have other writeup questions that you should answer inside of that document before the lab ends next week"
   ]
  },
  {
   "cell_type": "markdown",
   "metadata": {},
   "source": [
    "# Scala (Lab 1 problem 4.A.)\n",
    "* We want to implement absolute value as a function\n",
    "* What do you need to know about\n",
    "    * Double\n",
    "    * Functions\n",
    "    * conditions\n",
    "    * Booleans"
   ]
  },
  {
   "cell_type": "code",
   "execution_count": null,
   "metadata": {},
   "outputs": [],
   "source": [
    "// I'm a double\n",
    "1.0\n",
    "\n",
    "// I can be assigned to a variable\n",
    "val x: Double = 1.0\n",
    "\n",
    "// Scala is fancy, I don't have to state type\n",
    "val y = 1.0\n",
    "\n",
    "// I'm a boolean\n",
    "true\n",
    "false\n",
    "\n",
    "// I can also be assiged to a variable\n",
    "val z = true\n",
    "\n",
    "// I'm a conditional\n",
    "if ( true ) { 1 } else { 2 }\n",
    "\n",
    "// even a conditional can be assigned to a variable\n",
    "val a = if ( true ) { 1 } else { 2 }\n",
    "\n",
    "// scala supports number equality comparison\n",
    "val b = if ( x == y ) { 1 } else { 2 }\n",
    "val c = if ( x != y ) { 1 } else { 2 }\n",
    "\n",
    "// as well as inequality\n",
    "val d = if ( x < y ) { 1 } else { 2 }\n",
    "val e = if ( x > y ) { 1 } else { 2 }\n",
    "val f = if ( x <= y ) { 1 } else { 2 }\n",
    "val g = if ( x >= y ) { 1 } else { 2 }\n",
    "\n",
    "// run me and note that these variable values should be easy to trace"
   ]
  },
  {
   "cell_type": "code",
   "execution_count": null,
   "metadata": {},
   "outputs": [],
   "source": [
    "val a = if (true) { 1 }  // else { Unit }\n",
    "val b = if (true) { 1 } else { Unit }"
   ]
  },
  {
   "cell_type": "markdown",
   "metadata": {},
   "source": [
    "## Q&A?\n",
    "* ???SPWI: write 'em out."
   ]
  },
  {
   "cell_type": "markdown",
   "metadata": {},
   "source": [
    "## Pair on 4.A.\n",
    "* Let me show you how to test your Lab 1 code\n",
    "    * Open a terminal in VSCode\n",
    "    * type `sbt test`\n",
    "    * see the output tells you if you have errors\n",
    "    * and if you are failing any of the tests\n",
    "    * scroll up for successes\n",
    "* src/.../student/Lab1.scala\n",
    "* find the abs function\n",
    "* take some time to work on this with your teammate\n",
    "* I'll demonstrate the solution afterwards. I'll call on a few students to help me.\n",
    "    * SPWI: Raise your hand now if you do not want me to call on you.\n"
   ]
  },
  {
   "cell_type": "markdown",
   "metadata": {},
   "source": [
    "# Git Push\n",
    "* Decide who will push the solution since you're on a team\n",
    "* open a terminal in VSCode\n",
    "    * `git status`\n",
    "    * `git add <file>`\n",
    "    * `git commit`\n",
    "        * write a short message stating what you are commiting\n",
    "    * `git push`\n",
    "* The other person should pull and integrate this change\n",
    "* New to git? Stop by OH, ask on piazza, consult the web, there is a good tutorial resource on piazza "
   ]
  },
  {
   "cell_type": "markdown",
   "metadata": {},
   "source": [
    "# Scala - Special mentions"
   ]
  },
  {
   "cell_type": "code",
   "execution_count": null,
   "metadata": {},
   "outputs": [],
   "source": [
    "// this is valid scala\n",
    "// but please don't use var this term in 3155\n",
    "var x = 2\n",
    "x = x + 1"
   ]
  },
  {
   "cell_type": "code",
   "execution_count": null,
   "metadata": {},
   "outputs": [],
   "source": [
    "// instead, maybe something like\n",
    "val x0 = 2\n",
    "val x1 = x0 +1"
   ]
  },
  {
   "cell_type": "code",
   "execution_count": null,
   "metadata": {},
   "outputs": [],
   "source": [
    "// this is valid scala\n",
    "// but please don't use return this term in 3155\n",
    "// This is actually a really bad pracitice in Scala\n",
    "// Scala has a known bug about this (or rather it did, I'm uncertain if it's still around)\n",
    "// When it fails, it fails spectacularly\n",
    "def f(x: Int): Int = {\n",
    "    return x + 1\n",
    "}"
   ]
  },
  {
   "cell_type": "code",
   "execution_count": null,
   "metadata": {},
   "outputs": [],
   "source": [
    "// instead allow for implicit returns\n",
    "def f(x: Int): Int = {\n",
    "    x + 1\n",
    "}\n",
    "// We'll learn how this works under the hood as the semester continues"
   ]
  },
  {
   "cell_type": "markdown",
   "metadata": {},
   "source": [
    "# Scala - Linked List\n",
    "* I hope that we are all familiar with the concept of a linked list\n",
    "* even if it's been a long time since we've implemented one.\n",
    "* Here is the standard pythonic representation that's very friendly\n",
    "~~~\n",
    "generically [ l0, l1, ..., ln-1 ]\n",
    "\n",
    "e.g.\n",
    "[ 7, 25, 3 ]\n",
    "~~~\n",
    "* Here is the standard model with pointers\n",
    "~~~\n",
    "NODE: [ <data> | <ptr> ]\n",
    "there is a head pointer\n",
    "there is a NULL element - that word changes by language and implementation\n",
    "\n",
    "e.g.\n",
    "head *\n",
    "     |\n",
    "     V\n",
    "    [ 7 | * ]\n",
    "          |\n",
    "          V\n",
    "          [ 25 | * ]\n",
    "                 |\n",
    "                 V\n",
    "                 [ 3 | NULL ]        \n",
    "~~~\n",
    "* Here it is in the functional model\n",
    "~~~\n",
    "[] - The empty list\n",
    "[ <head_data>, <tail_list> ] - a non-empty list\n",
    "\n",
    "e.g.\n",
    "[] - The empty list\n",
    "[3, []] - a list with only one element\n",
    "[ 7, [ 25, [ 3, [] ] ] ] - the sample list from above examples\n",
    "~~~"
   ]
  },
  {
   "cell_type": "markdown",
   "metadata": {},
   "source": [
    "## Q&A?\n",
    "* ???SPWI: write 'em out."
   ]
  },
  {
   "cell_type": "markdown",
   "metadata": {},
   "source": [
    "* Let's code it!"
   ]
  },
  {
   "cell_type": "code",
   "execution_count": null,
   "metadata": {},
   "outputs": [],
   "source": [
    "// define the object\n",
    "// what will we call it?\n",
    "// what about empty?\n",
    "// what about not empty?\n",
    "sealed abstract class LinkedList\n",
    "case object EmptyList extends LinkedList\n",
    "case class Node( head: Int, tail: LinkedList ) extends LinkedList\n",
    "\n",
    "val l0 = EmptyList\n",
    "val l1 = Node(3, l0)\n",
    "val l1alternate = Node(3, EmptyList)\n",
    "\n",
    "val l3 = Node( 7, Node( 25, Node(3, EmptyList)))\n",
    "\n",
    "// live demo the length function\n",
    "def length( myList: LinkedList ): Int = {\n",
    "    myList match {\n",
    "        case EmptyList => 0\n",
    "        case Node(data, restOfList) => {\n",
    "            val lengthOfRestOfList = length(restOfList)\n",
    "            val lengthOfMyList = 1 + lengthOfRestOfList\n",
    "            lengthOfMyList\n",
    "        }\n",
    "        case _ => ???\n",
    "    }\n",
    "}\n",
    "\n",
    "// assert!\n",
    "assert(length(l0) == 0, \"Failed length of l0\")\n",
    "assert(length(l3) == 3, \"Failed length of l3\")\n",
    "\n",
    "// pair on the sum function\n",
    "\n",
    "// assert!"
   ]
  },
  {
   "cell_type": "code",
   "execution_count": null,
   "metadata": {},
   "outputs": [],
   "source": [
    "def sum( myList: LinkedList ): Int = {\n",
    "    ???\n",
    "}\n",
    "\n",
    "assert(sum(l0) == 0)\n",
    "assert(sum(l3) == 35)"
   ]
  },
  {
   "cell_type": "markdown",
   "metadata": {},
   "source": [
    "# Solutions\n",
    "* Please don't look at these until after class"
   ]
  },
  {
   "cell_type": "code",
   "execution_count": null,
   "metadata": {},
   "outputs": [],
   "source": [
    "/*\n",
    "\n",
    "HEY\n",
    "YOU\n",
    "RUN ME!\n",
    "\n",
    "*/\n",
    "// only need to import this once in the notebook\n",
    "import scala.annotation.tailrec"
   ]
  },
  {
   "cell_type": "code",
   "execution_count": null,
   "metadata": {},
   "outputs": [],
   "source": [
    "sealed abstract class MyLinkedList\n",
    "case object EmptyList extends MyLinkedList\n",
    "// head and tail are common a convention\n",
    "// but you can name it other things\n",
    "case class Node( head: Int, tail: MyLinkedList ) extends MyLinkedList\n",
    "\n",
    "val l0 = EmptyList\n",
    "val l1 = Node(3, l0)\n",
    "val l2 = Node(25, l1)\n",
    "val l3 = Node(7, l2)\n",
    "\n",
    "val l4 = Node(5, Node(10, EmptyList))\n",
    "\n",
    "\n",
    "// LENGTH\n",
    "\n",
    "// optimized for tail recursion\n",
    "// You'll learn about this soon\n",
    "@tailrec\n",
    "def lengthExpertIsh( l: MyLinkedList, acc: Int = 0 ): Int = l match {\n",
    "    case EmptyList => acc\n",
    "    case Node(_, t) => lengthExpertIsh(t, 1 + acc) \n",
    "}\n",
    "\n",
    "def lengthIntermediate( l: MyLinkedList ): Int = l match {\n",
    "    case EmptyList => 0\n",
    "    case Node(_, tail) => 1 + lengthIntermediate(tail) \n",
    "}\n",
    "\n",
    "def lengthBeginner( l: MyLinkedList ): Int = {\n",
    "    l match {\n",
    "        case EmptyList => 0\n",
    "        case Node(head, EmptyList) => 1\n",
    "        case Node(head, tail) => {\n",
    "            val tailLength = lengthBeginner(tail) \n",
    "            val totalLength = 1 + tailLength\n",
    "            totalLength\n",
    "        }\n",
    "        case _ => ???\n",
    "    }\n",
    "}\n",
    "\n",
    "def testLength(l:MyLinkedList, expectedResult: Int): Unit = {\n",
    "    // A higher ordered function!\n",
    "    // You'll learn about these later in the course\n",
    "    def f(g: MyLinkedList => Int) = {\n",
    "        val foundResult = g(l)\n",
    "        assert(foundResult == expectedResult, \n",
    "                s\"Failed testLength, expected $expectedResult but found $foundResult\")\n",
    "    }\n",
    "    \n",
    "    // special and has sytax 2 options\n",
    "    f((l) => lengthExpertIsh(l))\n",
    "    f(lengthExpertIsh(_))\n",
    "    \n",
    "    // standard\n",
    "    f(lengthIntermediate)\n",
    "    f(lengthBeginner)\n",
    "}\n",
    "\n",
    "testLength(l0, 0)\n",
    "testLength(l1, 1)\n",
    "testLength(l2, 2)\n",
    "testLength(l3, 3)\n",
    "\n",
    "testLength(l4, 2)\n",
    "\n",
    "\n",
    "// SUM\n",
    "// for simplicity let sum of the empty list = 0\n",
    "// you can experiment with a require otherwise\n",
    "\n",
    "// optimized for tail recursion\n",
    "@tailrec\n",
    "def sumExpertIsh( l: MyLinkedList, acc: Int = 0 ): Int = l match {\n",
    "    case EmptyList => acc\n",
    "    case Node(h, t) => sumExpertIsh(t, h + acc) \n",
    "}\n",
    "\n",
    "def sumIntermediate( l: MyLinkedList ): Int = l match {\n",
    "    case EmptyList => 0\n",
    "    case Node(head, tail) => head + sumIntermediate(tail) \n",
    "}\n",
    "\n",
    "def sumBeginner( l: MyLinkedList ): Int = {\n",
    "    l match {\n",
    "        case EmptyList => 0\n",
    "        case Node(head, EmptyList) => head\n",
    "        case Node(head, tail) => {\n",
    "            val tailSum = sumBeginner(tail) \n",
    "            val totalSum = head + tailSum\n",
    "            totalSum\n",
    "        }\n",
    "        case _ => ???\n",
    "    }\n",
    "}\n",
    "\n",
    "def testSum(l:MyLinkedList, expectedResult: Int): Unit = {\n",
    "    def f(g: MyLinkedList => Int) = {\n",
    "        val foundResult = g(l)\n",
    "        assert(foundResult == expectedResult, \n",
    "                s\"Failed testSum, expected $expectedResult but found $foundResult\")\n",
    "    }\n",
    "    \n",
    "    // special and has sytax 2 options\n",
    "    f((l) => sumExpertIsh(l))\n",
    "    f(sumExpertIsh(_))\n",
    "    \n",
    "    // standard\n",
    "    f(sumIntermediate)\n",
    "    f(sumBeginner)\n",
    "}\n",
    "\n",
    "testSum(l0, 0)\n",
    "testSum(l1, 3)\n",
    "testSum(l2, 28)\n",
    "testSum(l3, 35)\n",
    "\n",
    "testSum(l4, 15)"
   ]
  },
  {
   "cell_type": "markdown",
   "metadata": {},
   "source": [
    "# TODOs:\n",
    "* Lab 1 Checkpoint due tomorrow 6pm (with an automatic 24-hour extension for stuff happens)\n",
    "    * git push your \"faithful attempt\". You need to push at least once before the checkpoint deadline but you can keep pushing new updates after the checkpoint.\n",
    "    * Do the short Lab 1 Checkpoint Exercise on Canvas to prod some early thinking for the lab.\n",
    "* Extra, not required: CSPB 3155 Fall 2018 videos posted\n",
    "* Lab 1 due next week Friday 6pm 9/9.\n",
    "    * In-Class Lab 1 Exercise on the following Tuesday 9/13"
   ]
  },
  {
   "cell_type": "markdown",
   "metadata": {},
   "source": [
    "# Straw poll\n",
    "* Jupyter Notebooks\n",
    "    * Yea?\n",
    "    * Nay?"
   ]
  }
 ],
 "metadata": {
  "anaconda-cloud": {},
  "kernelspec": {
   "display_name": "Scala 2.13",
   "language": "scala",
   "name": "scala213"
  },
  "language_info": {
   "codemirror_mode": "text/x-scala",
   "file_extension": ".sc",
   "mimetype": "text/x-scala",
   "name": "scala",
   "nbconvert_exporter": "script",
   "version": "2.13.8"
  }
 },
 "nbformat": 4,
 "nbformat_minor": 4
}
